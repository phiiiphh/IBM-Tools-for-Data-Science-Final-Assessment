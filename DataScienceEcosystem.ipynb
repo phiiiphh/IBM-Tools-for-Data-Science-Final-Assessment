{
 "cells": [
  {
   "cell_type": "markdown",
   "id": "e1e92f0f",
   "metadata": {},
   "source": [
    "# Data Science Tools"
   ]
  },
  {
   "cell_type": "markdown",
   "id": "f9ee857f-a7a5-43bf-b55f-ab60c532174b",
   "metadata": {},
   "source": [
    "In this notebook, Data Science Tools and Ecosystem are summarized"
   ]
  },
  {
   "cell_type": "markdown",
   "id": "e3a4b2d2-d6fb-4336-910a-3ea04260b83c",
   "metadata": {},
   "source": [
    " **Objectives:**\n",
    " * List popular languages in Data Science\n",
    " * List popular libraries in Data Science\n",
    " * List popular open sources development environment tools in Data Science\n",
    " * Table creation in Markdown"
   ]
  },
  {
   "cell_type": "markdown",
   "id": "892308f0-4a2b-4177-9bda-20ef0b4de8ef",
   "metadata": {},
   "source": [
    "Some of the popular languages that Data Scientists use are:\n",
    "1. Python\n",
    "2. R\n",
    "3. SQL"
   ]
  },
  {
   "cell_type": "markdown",
   "id": "fe41d698-3672-4344-bf1d-7b8dad4d17e0",
   "metadata": {},
   "source": [
    "Some of the commonly used libraries used by Data Scientists include:\n",
    "1. Numpy\n",
    "2. Pandas\n",
    "3. Matplotlib\n",
    "4. SciPy"
   ]
  },
  {
   "cell_type": "markdown",
   "id": "9d240e38-5d57-476e-955a-46142a934ffc",
   "metadata": {},
   "source": [
    "| Data Science Tools |\n",
    "| ------------------ |\n",
    "| JupyterLab |\n",
    "| VS Code |\n",
    "| Spyder |"
   ]
  },
  {
   "cell_type": "markdown",
   "id": "62096a6c-f18d-455d-88f6-688e4290226c",
   "metadata": {},
   "source": [
    "### Below are a few examples of evaluating arithmetic expressions in Python."
   ]
  },
  {
   "cell_type": "code",
   "execution_count": 10,
   "id": "ec56b907-fa64-4734-a11c-3d2d79647317",
   "metadata": {},
   "outputs": [
    {
     "data": {
      "text/plain": [
       "17"
      ]
     },
     "execution_count": 10,
     "metadata": {},
     "output_type": "execute_result"
    }
   ],
   "source": [
    "#This a simple arithmetic expression to mutiply then add integers.\n",
    "(3*4)+5"
   ]
  },
  {
   "cell_type": "code",
   "execution_count": 13,
   "id": "c5d18619-22f5-481f-898e-ec3b5f2f854c",
   "metadata": {},
   "outputs": [
    {
     "name": "stdout",
     "output_type": "stream",
     "text": [
      "3.3333333333333335\n"
     ]
    }
   ],
   "source": [
    "#This will convert 200 minutes to hours by diving by 60.\n",
    "times_minutes = 200 # times in minutes\n",
    "times_hours = times_minutes / 60 # times in hours\n",
    "print(times_hours)"
   ]
  },
  {
   "cell_type": "markdown",
   "id": "8c46d019-4253-48bd-8780-977a6b59cc50",
   "metadata": {},
   "source": [
    "## Author\n",
    "P.HEN"
   ]
  },
  {
   "cell_type": "markdown",
   "id": "8967d67a-4e1d-4141-a1da-4381441c24bc",
   "metadata": {},
   "source": []
  }
 ],
 "metadata": {
  "kernelspec": {
   "display_name": "Python 3 (ipykernel)",
   "language": "python",
   "name": "python3"
  },
  "language_info": {
   "codemirror_mode": {
    "name": "ipython",
    "version": 3
   },
   "file_extension": ".py",
   "mimetype": "text/x-python",
   "name": "python",
   "nbconvert_exporter": "python",
   "pygments_lexer": "ipython3",
   "version": "3.10.16"
  }
 },
 "nbformat": 4,
 "nbformat_minor": 5
}
